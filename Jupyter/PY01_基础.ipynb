{
 "cells": [
  {
   "cell_type": "markdown",
   "metadata": {},
   "source": [
    "# 字符串格式化\n",
    "符号|类型\n",
    "--|--\n",
    "%d |整数\n",
    "%s |字符串\n",
    "\n",
    "## 定义"
   ]
  },
  {
   "cell_type": "code",
   "execution_count": 1,
   "metadata": {},
   "outputs": [
    {
     "name": "stdout",
     "output_type": "stream",
     "text": [
      "I am %s, i am %d years old\n",
      "I am liu, i am 12 years old\n"
     ]
    }
   ],
   "source": [
    "s = 'I am %s, i am %d years old'\n",
    "print(s)\n",
    "print(s%('liu',12))"
   ]
  },
  {
   "cell_type": "markdown",
   "metadata": {},
   "source": [
    "## format"
   ]
  },
  {
   "cell_type": "code",
   "execution_count": 3,
   "metadata": {},
   "outputs": [
    {
     "name": "stdout",
     "output_type": "stream",
     "text": [
      "I am liu, i am 12 years old\n"
     ]
    }
   ],
   "source": [
    "print('I am {}, i am {} years old'.format('liu',12))\n",
    "s = 'I am {0}, i am {1} years old,I am {0}'.format('liu',12)"
   ]
  },
  {
   "cell_type": "markdown",
   "metadata": {},
   "source": [
    "# None = np.Nan"
   ]
  },
  {
   "cell_type": "markdown",
   "metadata": {},
   "source": [
    "# 成员运算符号\n",
    "- 用来检测某一个变量是否是另一个变量的成员\n",
    "- in\n",
    "- not in"
   ]
  },
  {
   "cell_type": "code",
   "execution_count": 1,
   "metadata": {},
   "outputs": [
    {
     "name": "stdout",
     "output_type": "stream",
     "text": [
      "False\n",
      "True\n",
      "False\n"
     ]
    }
   ],
   "source": [
    "# 案例\n",
    "l = [1,2,3,4,5]\n",
    "a = 7\n",
    "\n",
    "b = a in l\n",
    "print(b)\n",
    "\n",
    "a = 4\n",
    "print(a in l)\n",
    "\n",
    "print(a not in l)"
   ]
  },
  {
   "cell_type": "markdown",
   "metadata": {},
   "source": [
    "## 身份运算\n",
    "- is: 用来检测两个变量是否是同一个变量\n",
    "    - 语法就是  var1 is var2 \n",
    "- is not: 两个变量不是同一个变量\n"
   ]
  },
  {
   "cell_type": "code",
   "execution_count": 3,
   "metadata": {},
   "outputs": [
    {
     "name": "stdout",
     "output_type": "stream",
     "text": [
      "True\n",
      "False\n"
     ]
    }
   ],
   "source": [
    "a = 9\n",
    "b = 9\n",
    "print( a is b)\n",
    "\n",
    "a = \"I love wangxiaojing\"\n",
    "b = \"I love wangxiaojing\"\n",
    "print( a is b)"
   ]
  },
  {
   "cell_type": "markdown",
   "metadata": {},
   "source": [
    "# 循环之break,contineu,pass\n",
    "- break： 无条件结束整个循环，简称循环猝死\n",
    "- continue：无条件结束本次循环，从新进入下一轮循环\n",
    "- pass：表示略过，通常用于站位"
   ]
  },
  {
   "cell_type": "markdown",
   "metadata": {},
   "source": [
    "# help()函数\n",
    "- help(函数名)"
   ]
  },
  {
   "cell_type": "code",
   "execution_count": 1,
   "metadata": {},
   "outputs": [
    {
     "name": "stdout",
     "output_type": "stream",
     "text": [
      "Help on built-in function print in module builtins:\n",
      "\n",
      "print(...)\n",
      "    print(value, ..., sep=' ', end='\\n', file=sys.stdout, flush=False)\n",
      "    \n",
      "    Prints the values to a stream, or to sys.stdout by default.\n",
      "    Optional keyword arguments:\n",
      "    file:  a file-like object (stream); defaults to the current sys.stdout.\n",
      "    sep:   string inserted between values, default a space.\n",
      "    end:   string appended after the last value, default a newline.\n",
      "    flush: whether to forcibly flush the stream.\n",
      "\n"
     ]
    }
   ],
   "source": [
    "help(print)"
   ]
  },
  {
   "cell_type": "markdown",
   "metadata": {},
   "source": [
    "# 函数参数\n",
    "- [参考资料](https://www.cnblogs.com/bingabcd/p/6671368.html)\n",
    "- python参考资料： headfirst python -> 零基础入门学习python（小甲鱼),本讲义参考的是流畅的python-->习题-->后期可以考虑腾讯公开免费课\n",
    "- 函数分类\n",
    "    - 普通函数\n",
    "    - 默认参数\n",
    "    - 关键字参数\n",
    "    - 收集参数\n",
    "    \n",
    "- 普通参数\n",
    "    - 参见上例\n",
    "    - 定义的时候直接定义变量名\n",
    "    - 调用的时候直接把变量或者值放入指定位置\n",
    "    \n",
    "    \n",
    "            \n",
    "                def 函数名（参数1， 参数2，....):\n",
    "                    函数体\n",
    "                    \n",
    "                # 调用\n",
    "                函数名（value1, value2,.......)\n",
    "                \n",
    "                # 调用的时候，具体值参考的是位置，按位置赋值\n",
    "            \n",
    "- 默认参数\n",
    "    - 形参带有默认值\n",
    "    - 调用的时候，如果没有对相应形参赋值，则使用默认值\n",
    "    \n",
    "                def  func_name(p1=v1, p2=v2..........):\n",
    "                    func_block\n",
    "                    \n",
    "                #调用1\n",
    "                func_name()\n",
    "                \n",
    "                # 调用2\n",
    "                value1= 100\n",
    "                value2=200\n",
    "                func_name(value1,value2)\n",
    "\n"
   ]
  },
  {
   "cell_type": "code",
   "execution_count": 2,
   "metadata": {},
   "outputs": [
    {
     "name": "stdout",
     "output_type": "stream",
     "text": [
      "mingyue is 21, and he is a good student\n",
      "xiaojing is 23, and she is a good student\n"
     ]
    }
   ],
   "source": [
    "# 默认参数示例\n",
    "# 报名函数，需要知道学生性别\n",
    "# 学习python的学生基本都是男生，所以，报名的时候如果没有特别指定，我们任务是男生\n",
    "def reg(name, age, gender=\"male\"):\n",
    "    if gender == \"male\":\n",
    "        print(\"{0} is {1}, and he is a good student\".format(name, age))\n",
    "    else:\n",
    "        print(\"{0} is {1}, and she is a good student\".format(name, age))\n",
    "\n",
    "\n",
    "\n",
    "reg(\"mingyue\", 21)\n",
    "\n",
    "reg(\"xiaojing\", 23, \"female\")"
   ]
  },
  {
   "cell_type": "markdown",
   "metadata": {},
   "source": [
    "- 关键字参数\n",
    "    - 语法\n",
    "\n",
    "            def func(p1=v1, p2=v2.....):\n",
    "                func_body\n",
    "\n",
    "            调用函数：\n",
    "            func(p1=value1, p2=value2.......)\n",
    "    - 比较麻烦，但也有好处：\n",
    "        - 不容易混淆， 一般实参和形参只是按照位置一一对应即可，容易出错\n",
    "        - 使用关键字参数，可以不考虑参数位置\n"
   ]
  },
  {
   "cell_type": "code",
   "execution_count": 2,
   "metadata": {},
   "outputs": [
    {
     "name": "stdout",
     "output_type": "stream",
     "text": [
      "I am a student\n",
      "我叫 18， 我今年 jingjing岁了， 我住我家\n",
      "I am a student\n",
      "我叫 jingjing， 我今年 18岁了， 我住我家\n"
     ]
    }
   ],
   "source": [
    "# 关键字参数案例\n",
    "def stu(name, age, addr):\n",
    "    print(\"I am a student\")\n",
    "    print(\"我叫 {0}， 我今年 {1}岁了， 我住{2}\".format(name, age, addr))\n",
    "    \n",
    "    \n",
    "n = \"jingjing\"\n",
    "a = 18\n",
    "addr = \"我家\"\n",
    "\n",
    "# 普通参数，只按照位置传递，容易出错\n",
    "stu(a, n, addr)\n",
    "\n",
    "\n",
    "def stu_key(name=\"No name\", age=0, addr=\"No addr\"):\n",
    "    print(\"I am a student\")\n",
    "    print(\"我叫 {0}， 我今年 {1}岁了， 我住{2}\".format(name, age, addr))\n",
    "    \n",
    "    \n",
    "n = \"jingjing\"\n",
    "a = 18\n",
    "addr = \"我家\"\n",
    "\n",
    "# 普通参数，只按照位置传递，容易出错\n",
    "stu_key(age=a, name=n, addr=addr)\n"
   ]
  },
  {
   "cell_type": "markdown",
   "metadata": {},
   "source": [
    "- 收集参数\n",
    "    - 把没有位置，不能和定义时的参数位置相对应的参数，放入一个特定的数据结构中\n",
    "    - 语法\n",
    "\n",
    "            def func(*args):\n",
    "                func_body\n",
    "                按照list使用方式访问args得到传入的参数\n",
    "\n",
    "            调用：\n",
    "            func(p1, p2, p3, .....)\n",
    "    - 参数名args不是必须这么写，但是，我们推荐直接用args，约定俗成\n",
    "    - 参数名args前需要由星号\n",
    "    - 收集参数可以和其他参数共存"
   ]
  },
  {
   "cell_type": "code",
   "execution_count": 3,
   "metadata": {},
   "outputs": [
    {
     "name": "stdout",
     "output_type": "stream",
     "text": [
      "Hello 大家好，我自我介绍以下，简答说两句：\n",
      "<class 'tuple'>\n",
      "liuying\n",
      "18\n",
      "北京大通州区\n",
      "wangxiaojing\n",
      "single\n",
      "Hello 大家好，我自我介绍以下，简答说两句：\n",
      "<class 'tuple'>\n",
      "周大神\n"
     ]
    }
   ],
   "source": [
    "# 收集参数代码\n",
    "# 函数模拟一个学生进行自我介绍，但具体内容不清楚\n",
    "# args把他看做一个list\n",
    "def stu( *args):\n",
    "    print(\"Hello 大家好，我自我介绍以下，简答说两句：\")\n",
    "    # type函数作用是检测变量的类型\n",
    "    print(type(args))\n",
    "    for item in args:\n",
    "        print(item)\n",
    "\n",
    "\n",
    "stu(\"liuying\", 18, \"北京大通州区\", \"wangxiaojing\", \"single\")\n",
    "\n",
    "stu(\"周大神\")"
   ]
  },
  {
   "cell_type": "code",
   "execution_count": 4,
   "metadata": {},
   "outputs": [
    {
     "name": "stdout",
     "output_type": "stream",
     "text": [
      "Hello 大家好，我自我介绍以下，简答说两句：\n",
      "<class 'tuple'>\n"
     ]
    }
   ],
   "source": [
    "# 收集参数案例\n",
    "# 说明收集参数可以不带任何实参调用，此时收集参数为空tuple\n",
    "stu()"
   ]
  },
  {
   "cell_type": "code",
   "execution_count": 6,
   "metadata": {},
   "outputs": [
    {
     "ename": "TypeError",
     "evalue": "stu() got an unexpected keyword argument 'name'",
     "output_type": "error",
     "traceback": [
      "\u001b[1;31m---------------------------------------------------------------------------\u001b[0m",
      "\u001b[1;31mTypeError\u001b[0m                                 Traceback (most recent call last)",
      "\u001b[1;32m<ipython-input-6-191626e9842b>\u001b[0m in \u001b[0;36m<module>\u001b[1;34m\u001b[0m\n\u001b[0;32m      1\u001b[0m \u001b[1;31m# 如果使用关键字参数格式调用，会出现问题\u001b[0m\u001b[1;33m\u001b[0m\u001b[1;33m\u001b[0m\u001b[0m\n\u001b[1;32m----> 2\u001b[1;33m \u001b[0mstu\u001b[0m\u001b[1;33m(\u001b[0m\u001b[0mname\u001b[0m\u001b[1;33m=\u001b[0m\u001b[1;34m\"liuying\"\u001b[0m\u001b[1;33m)\u001b[0m\u001b[1;33m\u001b[0m\u001b[0m\n\u001b[0m",
      "\u001b[1;31mTypeError\u001b[0m: stu() got an unexpected keyword argument 'name'"
     ]
    }
   ],
   "source": [
    "# 如果使用关键字参数格式调用，会出现问题\n",
    "stu(name=\"liuying\")"
   ]
  },
  {
   "cell_type": "markdown",
   "metadata": {},
   "source": [
    "- 收集参数之关键字收集参数\n",
    "     - 把关键字参数按字典格式存入收集参数\n",
    "     - 语法：\n",
    "     \n",
    "             def func( **kwargs):\n",
    "                 func_body\n",
    "             \n",
    "             # 调用：\n",
    "             func(p1=v1, p2=v2, p3=v3........)\n",
    "    - kwargs一般约定俗成\n",
    "    - 调用的时候，把多余的关键字参数放入kwargs\n",
    "    - 访问kwargs需要按字典格式访问\n",
    "    - 收集参数可以为空案例"
   ]
  },
  {
   "cell_type": "code",
   "execution_count": 7,
   "metadata": {},
   "outputs": [
    {
     "name": "stdout",
     "output_type": "stream",
     "text": [
      "Hello 大家好，我先自我介绍一下：\n",
      "<class 'dict'>\n",
      "name --- liuying\n",
      "age --- 19\n",
      "addr --- 北京大通州区\n",
      "lover --- 王晓静\n",
      "work --- Teacher\n",
      "**************************************************\n",
      "Hello 大家好，我先自我介绍一下：\n",
      "<class 'dict'>\n",
      "name --- 周大神\n"
     ]
    }
   ],
   "source": [
    "# 收集参数案例\n",
    "# 自我介绍\n",
    "# 调用的时候需要使用关键字参数调用\n",
    "def stu( **kwargs):\n",
    "    # 在函数体内对于kwargs的使用不用带星号\n",
    "    print(\"Hello 大家好，我先自我介绍一下：\")\n",
    "    print(type(kwargs))\n",
    "    # 对于字典的访问，python2 和python3有区别\n",
    "    for k,v in kwargs.items():\n",
    "        print(k, \"---\", v)\n",
    "    \n",
    "stu(name=\"liuying\",  age=19, addr=\"北京大通州区\", lover=\"王晓静\", work=\"Teacher\")\n",
    "\n",
    "print(\"*\" * 50)\n",
    "\n",
    "stu(name=\"周大神\")"
   ]
  },
  {
   "cell_type": "code",
   "execution_count": 8,
   "metadata": {},
   "outputs": [
    {
     "name": "stdout",
     "output_type": "stream",
     "text": [
      "Hello 大家好，我先自我介绍一下：\n",
      "<class 'dict'>\n"
     ]
    }
   ],
   "source": [
    "# 收集参数可以为空案例\n",
    "stu()"
   ]
  },
  {
   "cell_type": "markdown",
   "metadata": {},
   "source": [
    "### 收集参数的解包问题\n",
    "- 把参数放入list或者字典中，直接把list/dict中的值放入收集参数中\n",
    "- 语法：参看案例"
   ]
  },
  {
   "cell_type": "code",
   "execution_count": 9,
   "metadata": {},
   "outputs": [
    {
     "name": "stdout",
     "output_type": "stream",
     "text": [
      "哈哈哈哈哈\n",
      "<class 'str'>\n",
      "0\n",
      "liuying\n",
      "<class 'int'>\n",
      "1\n",
      "19\n",
      "<class 'int'>\n",
      "2\n",
      "23\n",
      "<class 'str'>\n",
      "3\n",
      "wangxiaojing\n"
     ]
    }
   ],
   "source": [
    "# 收集参数的解包问题\n",
    "\n",
    "def stu(*args):\n",
    "    print(\"哈哈哈哈哈\")\n",
    "    # n 用来表示循环次数\n",
    "    # 主要用来调试\n",
    "    n = 0\n",
    "    for i in args:\n",
    "        print(type(i))\n",
    "        print(n)\n",
    "        n += 1\n",
    "        print(i)\n",
    "        \n",
    "        \n",
    "#stu(\"liuying\", \"liuxiaoyhing\", 19, 200)\n",
    "\n",
    "l = [\"liuying\", 19, 23, \"wangxiaojing\"]\n",
    " \n",
    "#stu(l)\n",
    "# 此时，args的表示形式是字典内一个list类型的元素，即 arg = ([\"liuying\", 19, 23, \"wangxiaojing\"],)\n",
    "# 很显然跟我们最初的想法违背\n",
    "\n",
    "\n",
    "# 此时的调用，我们就需要解包符号，即调用的时候前面加一个星号\n",
    "stu(*l)"
   ]
  },
  {
   "cell_type": "markdown",
   "metadata": {},
   "source": [
    "# 函数文档\n",
    "- 函数的文档的作用是对当前函数提供使用相关的参考信息\n",
    "- 文档的写法：\n",
    "    - 在函数内部开始的第一行使用三引号字符串定义符\n",
    "    - 一般具有特定格式\n",
    "    - 参看案例\n",
    "- 文档查看\n",
    "    - 使用help函数，形如 help(func)\n",
    "    - 使用__doc__, 参看案例"
   ]
  },
  {
   "cell_type": "markdown",
   "metadata": {},
   "source": [
    "# 迭代"
   ]
  },
  {
   "cell_type": "code",
   "execution_count": 9,
   "metadata": {
    "scrolled": true
   },
   "outputs": [
    {
     "name": "stdout",
     "output_type": "stream",
     "text": [
      "A ==> B\n",
      "A ==> C\n",
      "B ==> C\n",
      "A ==> B\n",
      "C ==> A\n",
      "C ==> B\n",
      "A ==> B\n",
      "A ==> C\n",
      "B ==> C\n",
      "B ==> A\n",
      "C ==> A\n",
      "B ==> C\n",
      "A ==> B\n",
      "A ==> C\n",
      "B ==> C\n"
     ]
    }
   ],
   "source": [
    "def hanno(n, a, b, c):\n",
    "    if n == 1:\n",
    "        print(a, '==>', c)\n",
    "        return None\n",
    "    hanno(n-1, a, c, b)\n",
    "    print(a, '==>', c)\n",
    "    hanno(n-1, b, a, c)\n",
    "    \n",
    "hanno(4,'A', 'B', 'C')"
   ]
  },
  {
   "cell_type": "code",
   "execution_count": null,
   "metadata": {},
   "outputs": [],
   "source": []
  },
  {
   "cell_type": "code",
   "execution_count": null,
   "metadata": {},
   "outputs": [],
   "source": []
  },
  {
   "cell_type": "code",
   "execution_count": null,
   "metadata": {},
   "outputs": [],
   "source": []
  },
  {
   "cell_type": "code",
   "execution_count": null,
   "metadata": {},
   "outputs": [],
   "source": []
  },
  {
   "cell_type": "code",
   "execution_count": null,
   "metadata": {},
   "outputs": [],
   "source": []
  }
 ],
 "metadata": {
  "kernelspec": {
   "display_name": "Python 3",
   "language": "python",
   "name": "python3"
  },
  "language_info": {
   "codemirror_mode": {
    "name": "ipython",
    "version": 3
   },
   "file_extension": ".py",
   "mimetype": "text/x-python",
   "name": "python",
   "nbconvert_exporter": "python",
   "pygments_lexer": "ipython3",
   "version": "3.6.5"
  }
 },
 "nbformat": 4,
 "nbformat_minor": 2
}
