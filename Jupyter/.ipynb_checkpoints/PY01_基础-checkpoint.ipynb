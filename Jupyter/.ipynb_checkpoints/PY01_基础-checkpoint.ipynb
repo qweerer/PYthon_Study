{
 "cells": [
  {
   "cell_type": "markdown",
   "metadata": {},
   "source": [
    "# 字符串格式化\n",
    "符号|类型\n",
    "--|--\n",
    "%d |整数\n",
    "%s |字符串\n",
    "\n",
    "## 定义"
   ]
  },
  {
   "cell_type": "code",
   "execution_count": 1,
   "metadata": {},
   "outputs": [
    {
     "name": "stdout",
     "output_type": "stream",
     "text": [
      "I am %s, i am %d years old\n",
      "I am liu, i am 12 years old\n"
     ]
    }
   ],
   "source": [
    "s = 'I am %s, i am %d years old'\n",
    "print(s)\n",
    "print(s%('liu',12))"
   ]
  },
  {
   "cell_type": "markdown",
   "metadata": {},
   "source": [
    "## format"
   ]
  },
  {
   "cell_type": "code",
   "execution_count": 3,
   "metadata": {},
   "outputs": [
    {
     "name": "stdout",
     "output_type": "stream",
     "text": [
      "I am liu, i am 12 years old\n"
     ]
    }
   ],
   "source": [
    "print('I am {}, i am {} years old'.format('liu',12))\n",
    "s = 'I am {0}, i am {1} years old,I am {0}'.format('liu',12)"
   ]
  },
  {
   "cell_type": "markdown",
   "metadata": {},
   "source": [
    "# None = np.Nan"
   ]
  },
  {
   "cell_type": "code",
   "execution_count": null,
   "metadata": {},
   "outputs": [],
   "source": []
  },
  {
   "cell_type": "code",
   "execution_count": null,
   "metadata": {},
   "outputs": [],
   "source": []
  }
 ],
 "metadata": {
  "kernelspec": {
   "display_name": "Python 3",
   "language": "python",
   "name": "python3"
  },
  "language_info": {
   "codemirror_mode": {
    "name": "ipython",
    "version": 3
   },
   "file_extension": ".py",
   "mimetype": "text/x-python",
   "name": "python",
   "nbconvert_exporter": "python",
   "pygments_lexer": "ipython3",
   "version": "3.6.5"
  }
 },
 "nbformat": 4,
 "nbformat_minor": 2
}
