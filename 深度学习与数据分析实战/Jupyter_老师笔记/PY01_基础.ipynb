{
 "cells": [
  {
   "cell_type": "markdown",
   "metadata": {},
   "source": [
    "# 字符串格式化\n",
    "符号|类型\n",
    "--|--\n",
    "%d |整数\n",
    "%s |字符串\n",
    "\n",
    "## 定义"
   ]
  },
  {
   "cell_type": "code",
   "execution_count": 1,
   "metadata": {},
   "outputs": [
    {
     "name": "stdout",
     "output_type": "stream",
     "text": [
      "I am %s, i am %d years old\n",
      "I am liu, i am 12 years old\n"
     ]
    }
   ],
   "source": [
    "s = 'I am %s, i am %d years old'\n",
    "print(s)\n",
    "print(s%('liu',12))"
   ]
  },
  {
   "cell_type": "markdown",
   "metadata": {},
   "source": [
    "## format"
   ]
  },
  {
   "cell_type": "code",
   "execution_count": 3,
   "metadata": {},
   "outputs": [
    {
     "name": "stdout",
     "output_type": "stream",
     "text": [
      "I am liu, i am 12 years old\n"
     ]
    }
   ],
   "source": [
    "print('I am {}, i am {} years old'.format('liu',12))\n",
    "s = 'I am {0}, i am {1} years old,I am {0}'.format('liu',12)"
   ]
  },
  {
   "cell_type": "markdown",
   "metadata": {},
   "source": [
    "# None = np.Nan"
   ]
  },
  {
   "cell_type": "markdown",
   "metadata": {},
   "source": [
    "# 成员运算符号\n",
    "- 用来检测某一个变量是否是另一个变量的成员\n",
    "- in\n",
    "- not in"
   ]
  },
  {
   "cell_type": "code",
   "execution_count": 1,
   "metadata": {},
   "outputs": [
    {
     "name": "stdout",
     "output_type": "stream",
     "text": [
      "False\n",
      "True\n",
      "False\n"
     ]
    }
   ],
   "source": [
    "# 案例\n",
    "l = [1,2,3,4,5]\n",
    "a = 7\n",
    "\n",
    "b = a in l\n",
    "print(b)\n",
    "\n",
    "a = 4\n",
    "print(a in l)\n",
    "\n",
    "print(a not in l)"
   ]
  },
  {
   "cell_type": "markdown",
   "metadata": {},
   "source": [
    "## 身份运算\n",
    "- is: 用来检测两个变量是否是同一个变量\n",
    "    - 语法就是  var1 is var2 \n",
    "- is not: 两个变量不是同一个变量\n"
   ]
  },
  {
   "cell_type": "code",
   "execution_count": 3,
   "metadata": {},
   "outputs": [
    {
     "name": "stdout",
     "output_type": "stream",
     "text": [
      "True\n",
      "False\n"
     ]
    }
   ],
   "source": [
    "a = 9\n",
    "b = 9\n",
    "print( a is b)\n",
    "\n",
    "a = \"I love wangxiaojing\"\n",
    "b = \"I love wangxiaojing\"\n",
    "print( a is b)"
   ]
  },
  {
   "cell_type": "markdown",
   "metadata": {},
   "source": [
    "# 循环之break,contineu,pass\n",
    "- break： 无条件结束整个循环，简称循环猝死\n",
    "- continue：无条件结束本次循环，从新进入下一轮循环\n",
    "- pass：表示略过，通常用于站位"
   ]
  },
  {
   "cell_type": "markdown",
   "metadata": {},
   "source": [
    "# help()函数\n",
    "- help(函数名)"
   ]
  },
  {
   "cell_type": "code",
   "execution_count": 1,
   "metadata": {},
   "outputs": [
    {
     "name": "stdout",
     "output_type": "stream",
     "text": [
      "Help on built-in function print in module builtins:\n",
      "\n",
      "print(...)\n",
      "    print(value, ..., sep=' ', end='\\n', file=sys.stdout, flush=False)\n",
      "    \n",
      "    Prints the values to a stream, or to sys.stdout by default.\n",
      "    Optional keyword arguments:\n",
      "    file:  a file-like object (stream); defaults to the current sys.stdout.\n",
      "    sep:   string inserted between values, default a space.\n",
      "    end:   string appended after the last value, default a newline.\n",
      "    flush: whether to forcibly flush the stream.\n",
      "\n"
     ]
    }
   ],
   "source": [
    "help(print)"
   ]
  },
  {
   "cell_type": "markdown",
   "metadata": {},
   "source": [
    "# 函数参数\n",
    "- [参考资料](https://www.cnblogs.com/bingabcd/p/6671368.html)\n",
    "- python参考资料： headfirst python -> 零基础入门学习python（小甲鱼),本讲义参考的是流畅的python-->习题-->后期可以考虑腾讯公开免费课\n",
    "- 函数分类\n",
    "    - 普通函数\n",
    "    - 默认参数\n",
    "    - 关键字参数\n",
    "    - 收集参数\n",
    "    \n",
    "- 普通参数\n",
    "    - 参见上例\n",
    "    - 定义的时候直接定义变量名\n",
    "    - 调用的时候直接把变量或者值放入指定位置\n",
    "    \n",
    "    \n",
    "            \n",
    "                def 函数名（参数1， 参数2，....):\n",
    "                    函数体\n",
    "                    \n",
    "                # 调用\n",
    "                函数名（value1, value2,.......)\n",
    "                \n",
    "                # 调用的时候，具体值参考的是位置，按位置赋值\n",
    "            \n",
    "- 默认参数\n",
    "    - 形参带有默认值\n",
    "    - 调用的时候，如果没有对相应形参赋值，则使用默认值\n",
    "    \n",
    "                def  func_name(p1=v1, p2=v2..........):\n",
    "                    func_block\n",
    "                    \n",
    "                #调用1\n",
    "                func_name()\n",
    "                \n",
    "                # 调用2\n",
    "                value1= 100\n",
    "                value2=200\n",
    "                func_name(value1,value2)\n",
    "\n"
   ]
  },
  {
   "cell_type": "code",
   "execution_count": 2,
   "metadata": {},
   "outputs": [
    {
     "name": "stdout",
     "output_type": "stream",
     "text": [
      "mingyue is 21, and he is a good student\n",
      "xiaojing is 23, and she is a good student\n"
     ]
    }
   ],
   "source": [
    "# 默认参数示例\n",
    "# 报名函数，需要知道学生性别\n",
    "# 学习python的学生基本都是男生，所以，报名的时候如果没有特别指定，我们任务是男生\n",
    "def reg(name, age, gender=\"male\"):\n",
    "    if gender == \"male\":\n",
    "        print(\"{0} is {1}, and he is a good student\".format(name, age))\n",
    "    else:\n",
    "        print(\"{0} is {1}, and she is a good student\".format(name, age))\n",
    "\n",
    "\n",
    "\n",
    "reg(\"mingyue\", 21)\n",
    "\n",
    "reg(\"xiaojing\", 23, \"female\")"
   ]
  },
  {
   "cell_type": "markdown",
   "metadata": {},
   "source": [
    "- 关键字参数\n",
    "    - 语法\n",
    "\n",
    "            def func(p1=v1, p2=v2.....):\n",
    "                func_body\n",
    "\n",
    "            调用函数：\n",
    "            func(p1=value1, p2=value2.......)\n",
    "    - 比较麻烦，但也有好处：\n",
    "        - 不容易混淆， 一般实参和形参只是按照位置一一对应即可，容易出错\n",
    "        - 使用关键字参数，可以不考虑参数位置\n"
   ]
  },
  {
   "cell_type": "code",
   "execution_count": 2,
   "metadata": {},
   "outputs": [
    {
     "name": "stdout",
     "output_type": "stream",
     "text": [
      "I am a student\n",
      "我叫 18， 我今年 jingjing岁了， 我住我家\n",
      "I am a student\n",
      "我叫 jingjing， 我今年 18岁了， 我住我家\n"
     ]
    }
   ],
   "source": [
    "# 关键字参数案例\n",
    "def stu(name, age, addr):\n",
    "    print(\"I am a student\")\n",
    "    print(\"我叫 {0}， 我今年 {1}岁了， 我住{2}\".format(name, age, addr))\n",
    "    \n",
    "    \n",
    "n = \"jingjing\"\n",
    "a = 18\n",
    "addr = \"我家\"\n",
    "\n",
    "# 普通参数，只按照位置传递，容易出错\n",
    "stu(a, n, addr)\n",
    "\n",
    "\n",
    "def stu_key(name=\"No name\", age=0, addr=\"No addr\"):\n",
    "    print(\"I am a student\")\n",
    "    print(\"我叫 {0}， 我今年 {1}岁了， 我住{2}\".format(name, age, addr))\n",
    "    \n",
    "    \n",
    "n = \"jingjing\"\n",
    "a = 18\n",
    "addr = \"我家\"\n",
    "\n",
    "# 普通参数，只按照位置传递，容易出错\n",
    "stu_key(age=a, name=n, addr=addr)\n"
   ]
  },
  {
   "cell_type": "markdown",
   "metadata": {},
   "source": [
    "- 收集参数\n",
    "    - 把没有位置，不能和定义时的参数位置相对应的参数，放入一个特定的数据结构中\n",
    "    - 语法\n",
    "\n",
    "            def func(*args):\n",
    "                func_body\n",
    "                按照list使用方式访问args得到传入的参数\n",
    "\n",
    "            调用：\n",
    "            func(p1, p2, p3, .....)\n",
    "    - 参数名args不是必须这么写，但是，我们推荐直接用args，约定俗成\n",
    "    - 参数名args前需要由星号\n",
    "    - 收集参数可以和其他参数共存"
   ]
  },
  {
   "cell_type": "code",
   "execution_count": 3,
   "metadata": {},
   "outputs": [
    {
     "name": "stdout",
     "output_type": "stream",
     "text": [
      "Hello 大家好，我自我介绍以下，简答说两句：\n",
      "<class 'tuple'>\n",
      "liuying\n",
      "18\n",
      "北京大通州区\n",
      "wangxiaojing\n",
      "single\n",
      "Hello 大家好，我自我介绍以下，简答说两句：\n",
      "<class 'tuple'>\n",
      "周大神\n"
     ]
    }
   ],
   "source": [
    "# 收集参数代码\n",
    "# 函数模拟一个学生进行自我介绍，但具体内容不清楚\n",
    "# args把他看做一个list\n",
    "def stu( *args):\n",
    "    print(\"Hello 大家好，我自我介绍以下，简答说两句：\")\n",
    "    # type函数作用是检测变量的类型\n",
    "    print(type(args))\n",
    "    for item in args:\n",
    "        print(item)\n",
    "\n",
    "\n",
    "stu(\"liuying\", 18, \"北京大通州区\", \"wangxiaojing\", \"single\")\n",
    "\n",
    "stu(\"周大神\")"
   ]
  },
  {
   "cell_type": "code",
   "execution_count": 4,
   "metadata": {},
   "outputs": [
    {
     "name": "stdout",
     "output_type": "stream",
     "text": [
      "Hello 大家好，我自我介绍以下，简答说两句：\n",
      "<class 'tuple'>\n"
     ]
    }
   ],
   "source": [
    "# 收集参数案例\n",
    "# 说明收集参数可以不带任何实参调用，此时收集参数为空tuple\n",
    "stu()"
   ]
  },
  {
   "cell_type": "code",
   "execution_count": 6,
   "metadata": {},
   "outputs": [
    {
     "ename": "TypeError",
     "evalue": "stu() got an unexpected keyword argument 'name'",
     "output_type": "error",
     "traceback": [
      "\u001b[1;31m---------------------------------------------------------------------------\u001b[0m",
      "\u001b[1;31mTypeError\u001b[0m                                 Traceback (most recent call last)",
      "\u001b[1;32m<ipython-input-6-191626e9842b>\u001b[0m in \u001b[0;36m<module>\u001b[1;34m\u001b[0m\n\u001b[0;32m      1\u001b[0m \u001b[1;31m# 如果使用关键字参数格式调用，会出现问题\u001b[0m\u001b[1;33m\u001b[0m\u001b[1;33m\u001b[0m\u001b[0m\n\u001b[1;32m----> 2\u001b[1;33m \u001b[0mstu\u001b[0m\u001b[1;33m(\u001b[0m\u001b[0mname\u001b[0m\u001b[1;33m=\u001b[0m\u001b[1;34m\"liuying\"\u001b[0m\u001b[1;33m)\u001b[0m\u001b[1;33m\u001b[0m\u001b[0m\n\u001b[0m",
      "\u001b[1;31mTypeError\u001b[0m: stu() got an unexpected keyword argument 'name'"
     ]
    }
   ],
   "source": [
    "# 如果使用关键字参数格式调用，会出现问题\n",
    "stu(name=\"liuying\")"
   ]
  },
  {
   "cell_type": "markdown",
   "metadata": {},
   "source": [
    "- 收集参数之关键字收集参数\n",
    "     - 把关键字参数按字典格式存入收集参数\n",
    "     - 语法：\n",
    "     \n",
    "             def func( **kwargs):\n",
    "                 func_body\n",
    "             \n",
    "             # 调用：\n",
    "             func(p1=v1, p2=v2, p3=v3........)\n",
    "    - kwargs一般约定俗成\n",
    "    - 调用的时候，把多余的关键字参数放入kwargs\n",
    "    - 访问kwargs需要按字典格式访问\n",
    "    - 收集参数可以为空案例"
   ]
  },
  {
   "cell_type": "code",
   "execution_count": 7,
   "metadata": {},
   "outputs": [
    {
     "name": "stdout",
     "output_type": "stream",
     "text": [
      "Hello 大家好，我先自我介绍一下：\n",
      "<class 'dict'>\n",
      "name --- liuying\n",
      "age --- 19\n",
      "addr --- 北京大通州区\n",
      "lover --- 王晓静\n",
      "work --- Teacher\n",
      "**************************************************\n",
      "Hello 大家好，我先自我介绍一下：\n",
      "<class 'dict'>\n",
      "name --- 周大神\n"
     ]
    }
   ],
   "source": [
    "# 收集参数案例\n",
    "# 自我介绍\n",
    "# 调用的时候需要使用关键字参数调用\n",
    "def stu( **kwargs):\n",
    "    # 在函数体内对于kwargs的使用不用带星号\n",
    "    print(\"Hello 大家好，我先自我介绍一下：\")\n",
    "    print(type(kwargs))\n",
    "    # 对于字典的访问，python2 和python3有区别\n",
    "    for k,v in kwargs.items():\n",
    "        print(k, \"---\", v)\n",
    "    \n",
    "stu(name=\"liuying\",  age=19, addr=\"北京大通州区\", lover=\"王晓静\", work=\"Teacher\")\n",
    "\n",
    "print(\"*\" * 50)\n",
    "\n",
    "stu(name=\"周大神\")"
   ]
  },
  {
   "cell_type": "code",
   "execution_count": 8,
   "metadata": {},
   "outputs": [
    {
     "name": "stdout",
     "output_type": "stream",
     "text": [
      "Hello 大家好，我先自我介绍一下：\n",
      "<class 'dict'>\n"
     ]
    }
   ],
   "source": [
    "# 收集参数可以为空案例\n",
    "stu()"
   ]
  },
  {
   "cell_type": "markdown",
   "metadata": {},
   "source": [
    "### 收集参数的解包问题\n",
    "\n",
    "- 把参数放入list或者字典中，直接把list/dict中的值放入收集参数中\n",
    "- 语法：参看案例"
   ]
  },
  {
   "cell_type": "code",
   "execution_count": 9,
   "metadata": {},
   "outputs": [
    {
     "name": "stdout",
     "output_type": "stream",
     "text": [
      "哈哈哈哈哈\n",
      "<class 'str'>\n",
      "0\n",
      "liuying\n",
      "<class 'int'>\n",
      "1\n",
      "19\n",
      "<class 'int'>\n",
      "2\n",
      "23\n",
      "<class 'str'>\n",
      "3\n",
      "wangxiaojing\n"
     ]
    }
   ],
   "source": [
    "# 收集参数的解包问题\n",
    "\n",
    "def stu(*args):\n",
    "    print(\"哈哈哈哈哈\")\n",
    "    # n 用来表示循环次数\n",
    "    # 主要用来调试\n",
    "    n = 0\n",
    "    for i in args:\n",
    "        print(type(i))\n",
    "        print(n)\n",
    "        n += 1\n",
    "        print(i)\n",
    "        \n",
    "        \n",
    "#stu(\"liuying\", \"liuxiaoyhing\", 19, 200)\n",
    "\n",
    "l = [\"liuying\", 19, 23, \"wangxiaojing\"]\n",
    " \n",
    "#stu(l)\n",
    "# 此时，args的表示形式是字典内一个list类型的元素，即 arg = ([\"liuying\", 19, 23, \"wangxiaojing\"],)\n",
    "# 很显然跟我们最初的想法违背\n",
    "\n",
    "\n",
    "# 此时的调用，我们就需要解包符号，即调用的时候前面加一个星号\n",
    "stu(*l)"
   ]
  },
  {
   "cell_type": "markdown",
   "metadata": {},
   "source": [
    "# 函数文档\n",
    "\n",
    "- 函数的文档的作用是对当前函数提供使用相关的参考信息\n",
    "- 文档的写法：\n",
    "    - 在函数内部开始的第一行使用三引号字符串定义符\n",
    "    - 一般具有特定格式\n",
    "    - 参看案例\n",
    "- 文档查看\n",
    "    - 使用help函数，形如 help(func)\n",
    "    - 使用__doc__, 参看案例"
   ]
  },
  {
   "cell_type": "markdown",
   "metadata": {},
   "source": [
    "# 递归"
   ]
  },
  {
   "cell_type": "code",
   "execution_count": 9,
   "metadata": {
    "scrolled": true
   },
   "outputs": [
    {
     "name": "stdout",
     "output_type": "stream",
     "text": [
      "A ==> B\n",
      "A ==> C\n",
      "B ==> C\n",
      "A ==> B\n",
      "C ==> A\n",
      "C ==> B\n",
      "A ==> B\n",
      "A ==> C\n",
      "B ==> C\n",
      "B ==> A\n",
      "C ==> A\n",
      "B ==> C\n",
      "A ==> B\n",
      "A ==> C\n",
      "B ==> C\n"
     ]
    }
   ],
   "source": [
    "def hanno(n, a, b, c):\n",
    "    if n == 1:\n",
    "        print(a, '==>', c)\n",
    "        return None\n",
    "    hanno(n-1, a, c, b)\n",
    "    print(a, '==>', c)\n",
    "    hanno(n-1, b, a, c)\n",
    "    \n",
    "hanno(4,'A', 'B', 'C')"
   ]
  },
  {
   "cell_type": "markdown",
   "metadata": {},
   "source": [
    "# id()\n",
    "\n",
    "- id(变量):显示变量的id"
   ]
  },
  {
   "cell_type": "code",
   "execution_count": 2,
   "metadata": {},
   "outputs": [
    {
     "name": "stdout",
     "output_type": "stream",
     "text": [
      "[1, 2, 3, 4, 5]\n",
      "[1, 2, 4, 5]\n",
      "[1, 2, 4, 5]\n",
      "-------\n",
      "2221414342344\n",
      "2221414342344\n",
      "True\n"
     ]
    }
   ],
   "source": [
    "a = [1,2,3,4,5]\n",
    "c = a\n",
    "b = id(a)\n",
    "print(a)\n",
    "\n",
    "del a[2]\n",
    "print(a)\n",
    "print(c)\n",
    "\n",
    "print('-------')\n",
    "print(b)\n",
    "print(id(a))\n",
    "print(b == id(a))"
   ]
  },
  {
   "cell_type": "code",
   "execution_count": 18,
   "metadata": {},
   "outputs": [
    {
     "name": "stdout",
     "output_type": "stream",
     "text": [
      "100 aid= 1832745120\n",
      "100 cid= 1832745120\n",
      "True\n",
      "202 aid= 1832748384\n",
      "100 cid= 1832745120\n",
      "False\n"
     ]
    }
   ],
   "source": [
    "a = 100\n",
    "c = a\n",
    "print(a,'aid=',id(a))\n",
    "print(c,'cid=',id(c))\n",
    "print(id(a) == id(c))\n",
    "\n",
    "a = 202\n",
    "print(a,'aid=',id(a))\n",
    "print(c,'cid=',id(c))\n",
    "print(id(a) == id(c))"
   ]
  },
  {
   "cell_type": "markdown",
   "metadata": {},
   "source": [
    "# `全局变量`与 `局部变量`"
   ]
  },
  {
   "cell_type": "code",
   "execution_count": 3,
   "metadata": {},
   "outputs": [
    {
     "data": {
      "text/plain": [
       "{'__name__': '__main__',\n",
       " '__doc__': 'Automatically created module for IPython interactive environment',\n",
       " '__package__': None,\n",
       " '__loader__': None,\n",
       " '__spec__': None,\n",
       " '__builtin__': <module 'builtins' (built-in)>,\n",
       " '__builtins__': <module 'builtins' (built-in)>,\n",
       " '_ih': ['',\n",
       "  'globals()',\n",
       "  \"a = [1,2,3,4,5]\\nc = a\\nb = id(a)\\nprint(a)\\n\\ndel a[2]\\nprint(a)\\nprint(c)\\n\\nprint('-------')\\nprint(b)\\nprint(id(a))\\nprint(b == id(a))\",\n",
       "  'globals()'],\n",
       " '_oh': {1: {...}},\n",
       " '_dh': ['D:\\\\code\\\\PYthon_Study\\\\Jupyter'],\n",
       " 'In': ['',\n",
       "  'globals()',\n",
       "  \"a = [1,2,3,4,5]\\nc = a\\nb = id(a)\\nprint(a)\\n\\ndel a[2]\\nprint(a)\\nprint(c)\\n\\nprint('-------')\\nprint(b)\\nprint(id(a))\\nprint(b == id(a))\",\n",
       "  'globals()'],\n",
       " 'Out': {1: {...}},\n",
       " 'get_ipython': <bound method InteractiveShell.get_ipython of <ipykernel.zmqshell.ZMQInteractiveShell object at 0x000002053692D080>>,\n",
       " 'exit': <IPython.core.autocall.ZMQExitAutocall at 0x20536927940>,\n",
       " 'quit': <IPython.core.autocall.ZMQExitAutocall at 0x20536927940>,\n",
       " '_': {...},\n",
       " '__': '',\n",
       " '___': '',\n",
       " '_i': \"a = [1,2,3,4,5]\\nc = a\\nb = id(a)\\nprint(a)\\n\\ndel a[2]\\nprint(a)\\nprint(c)\\n\\nprint('-------')\\nprint(b)\\nprint(id(a))\\nprint(b == id(a))\",\n",
       " '_ii': 'globals()',\n",
       " '_iii': '',\n",
       " '_i1': 'globals()',\n",
       " '_1': {...},\n",
       " '_i2': \"a = [1,2,3,4,5]\\nc = a\\nb = id(a)\\nprint(a)\\n\\ndel a[2]\\nprint(a)\\nprint(c)\\n\\nprint('-------')\\nprint(b)\\nprint(id(a))\\nprint(b == id(a))\",\n",
       " 'a': [1, 2, 4, 5],\n",
       " 'c': [1, 2, 4, 5],\n",
       " 'b': 2221414342344,\n",
       " '_i3': 'globals()'}"
      ]
     },
     "execution_count": 3,
     "metadata": {},
     "output_type": "execute_result"
    }
   ],
   "source": [
    "globals()"
   ]
  },
  {
   "cell_type": "code",
   "execution_count": 4,
   "metadata": {},
   "outputs": [
    {
     "data": {
      "text/plain": [
       "{'__name__': '__main__',\n",
       " '__doc__': 'Automatically created module for IPython interactive environment',\n",
       " '__package__': None,\n",
       " '__loader__': None,\n",
       " '__spec__': None,\n",
       " '__builtin__': <module 'builtins' (built-in)>,\n",
       " '__builtins__': <module 'builtins' (built-in)>,\n",
       " '_ih': ['',\n",
       "  'globals()',\n",
       "  \"a = [1,2,3,4,5]\\nc = a\\nb = id(a)\\nprint(a)\\n\\ndel a[2]\\nprint(a)\\nprint(c)\\n\\nprint('-------')\\nprint(b)\\nprint(id(a))\\nprint(b == id(a))\",\n",
       "  'globals()',\n",
       "  'locals()'],\n",
       " '_oh': {1: {...}, 3: {...}},\n",
       " '_dh': ['D:\\\\code\\\\PYthon_Study\\\\Jupyter'],\n",
       " 'In': ['',\n",
       "  'globals()',\n",
       "  \"a = [1,2,3,4,5]\\nc = a\\nb = id(a)\\nprint(a)\\n\\ndel a[2]\\nprint(a)\\nprint(c)\\n\\nprint('-------')\\nprint(b)\\nprint(id(a))\\nprint(b == id(a))\",\n",
       "  'globals()',\n",
       "  'locals()'],\n",
       " 'Out': {1: {...}, 3: {...}},\n",
       " 'get_ipython': <bound method InteractiveShell.get_ipython of <ipykernel.zmqshell.ZMQInteractiveShell object at 0x000002053692D080>>,\n",
       " 'exit': <IPython.core.autocall.ZMQExitAutocall at 0x20536927940>,\n",
       " 'quit': <IPython.core.autocall.ZMQExitAutocall at 0x20536927940>,\n",
       " '_': {...},\n",
       " '__': {...},\n",
       " '___': '',\n",
       " '_i': 'globals()',\n",
       " '_ii': \"a = [1,2,3,4,5]\\nc = a\\nb = id(a)\\nprint(a)\\n\\ndel a[2]\\nprint(a)\\nprint(c)\\n\\nprint('-------')\\nprint(b)\\nprint(id(a))\\nprint(b == id(a))\",\n",
       " '_iii': 'globals()',\n",
       " '_i1': 'globals()',\n",
       " '_1': {...},\n",
       " '_i2': \"a = [1,2,3,4,5]\\nc = a\\nb = id(a)\\nprint(a)\\n\\ndel a[2]\\nprint(a)\\nprint(c)\\n\\nprint('-------')\\nprint(b)\\nprint(id(a))\\nprint(b == id(a))\",\n",
       " 'a': [1, 2, 4, 5],\n",
       " 'c': [1, 2, 4, 5],\n",
       " 'b': 2221414342344,\n",
       " '_i3': 'globals()',\n",
       " '_3': {...},\n",
       " '_i4': 'locals()'}"
      ]
     },
     "execution_count": 4,
     "metadata": {},
     "output_type": "execute_result"
    }
   ],
   "source": [
    "# 局部变量\n",
    "locals()"
   ]
  },
  {
   "cell_type": "markdown",
   "metadata": {},
   "source": [
    "## 提升(申明)局部变量为全局变量\n",
    "\n",
    "- 在函数中声明\n",
    "\n",
    "        global 变量名"
   ]
  },
  {
   "cell_type": "markdown",
   "metadata": {},
   "source": [
    "# 字符串作为函数运行\n",
    "\n",
    "\n",
    "## eval()\n",
    "\n",
    "- 返回运行结果\n",
    "- 语法:\n",
    "\n",
    "        eval(string_code, globals=None, locals=None)\n",
    "\n",
    "## exec()\n",
    "\n",
    "- 无返回值\n",
    "- 语法:\n",
    "\n",
    "        exec(string_code, globals=None, locals=None)\n"
   ]
  },
  {
   "cell_type": "markdown",
   "metadata": {},
   "source": [
    "# 列表操作\n",
    "\n",
    "## 双层列表循环"
   ]
  },
  {
   "cell_type": "code",
   "execution_count": 3,
   "metadata": {},
   "outputs": [
    {
     "name": "stdout",
     "output_type": "stream",
     "text": [
      "a : 1\n",
      "b : 2\n",
      "c : 3\n"
     ]
    }
   ],
   "source": [
    "a = [['a', 1], ['b', 2], ['c', 3]]\n",
    "for i, j in a:\n",
    "    print(i,':', j)"
   ]
  },
  {
   "cell_type": "markdown",
   "metadata": {},
   "source": [
    "## 双层列表循环变异"
   ]
  },
  {
   "cell_type": "code",
   "execution_count": 6,
   "metadata": {},
   "outputs": [
    {
     "name": "stdout",
     "output_type": "stream",
     "text": [
      "a : 1 dasgj\n",
      "b : 2 dasgj\n",
      "c : 3 dasgj\n"
     ]
    }
   ],
   "source": [
    "a = [['a', 1, 'dasgj'], ['b', 2, 'dasgj'], ['c', 3, 'dasgj']]\n",
    "for i, j, k in a:\n",
    "    print(i,':', j, k)"
   ]
  },
  {
   "cell_type": "code",
   "execution_count": 8,
   "metadata": {},
   "outputs": [
    {
     "name": "stdout",
     "output_type": "stream",
     "text": [
      "a : 1 dasgj\n",
      "b : 2 dasgj\n"
     ]
    },
    {
     "ename": "ValueError",
     "evalue": "too many values to unpack (expected 3)",
     "output_type": "error",
     "traceback": [
      "\u001b[1;31m---------------------------------------------------------------------------\u001b[0m",
      "\u001b[1;31mValueError\u001b[0m                                Traceback (most recent call last)",
      "\u001b[1;32m<ipython-input-8-e35c8d22015f>\u001b[0m in \u001b[0;36m<module>\u001b[1;34m\u001b[0m\n\u001b[0;32m      1\u001b[0m \u001b[0ma\u001b[0m \u001b[1;33m=\u001b[0m \u001b[1;33m[\u001b[0m\u001b[1;33m[\u001b[0m\u001b[1;34m'a'\u001b[0m\u001b[1;33m,\u001b[0m \u001b[1;36m1\u001b[0m\u001b[1;33m,\u001b[0m \u001b[1;34m'dasgj'\u001b[0m\u001b[1;33m]\u001b[0m\u001b[1;33m,\u001b[0m \u001b[1;33m[\u001b[0m\u001b[1;34m'b'\u001b[0m\u001b[1;33m,\u001b[0m \u001b[1;36m2\u001b[0m\u001b[1;33m,\u001b[0m \u001b[1;34m'dasgj'\u001b[0m\u001b[1;33m]\u001b[0m\u001b[1;33m,\u001b[0m \u001b[1;33m[\u001b[0m\u001b[1;34m'c'\u001b[0m\u001b[1;33m,\u001b[0m \u001b[1;36m3\u001b[0m\u001b[1;33m,\u001b[0m \u001b[1;34m'dasgj'\u001b[0m\u001b[1;33m,\u001b[0m\u001b[1;34m'1'\u001b[0m\u001b[1;33m]\u001b[0m\u001b[1;33m]\u001b[0m\u001b[1;33m\u001b[0m\u001b[0m\n\u001b[1;32m----> 2\u001b[1;33m \u001b[1;32mfor\u001b[0m \u001b[0mi\u001b[0m\u001b[1;33m,\u001b[0m \u001b[0mj\u001b[0m\u001b[1;33m,\u001b[0m \u001b[0mk\u001b[0m \u001b[1;32min\u001b[0m \u001b[0ma\u001b[0m\u001b[1;33m:\u001b[0m\u001b[1;33m\u001b[0m\u001b[0m\n\u001b[0m\u001b[0;32m      3\u001b[0m     \u001b[0mprint\u001b[0m\u001b[1;33m(\u001b[0m\u001b[0mi\u001b[0m\u001b[1;33m,\u001b[0m\u001b[1;34m':'\u001b[0m\u001b[1;33m,\u001b[0m \u001b[0mj\u001b[0m\u001b[1;33m,\u001b[0m \u001b[0mk\u001b[0m\u001b[1;33m)\u001b[0m\u001b[1;33m\u001b[0m\u001b[0m\n",
      "\u001b[1;31mValueError\u001b[0m: too many values to unpack (expected 3)"
     ]
    }
   ],
   "source": [
    "# 列表中每个元素的'len'必须相等\n",
    "a = [['a', 1, 'dasgj'], ['b', 2, 'dasgj'], ['c', 3, 'dasgj','1']]\n",
    "for i, j, k in a:\n",
    "    print(i,':', j, k)"
   ]
  },
  {
   "cell_type": "markdown",
   "metadata": {},
   "source": [
    "## 列表内涵\n",
    "\n",
    "- 用`for`创建"
   ]
  },
  {
   "cell_type": "code",
   "execution_count": 13,
   "metadata": {},
   "outputs": [
    {
     "name": "stdout",
     "output_type": "stream",
     "text": [
      "[0, 2, 4, 6, 8, 10, 12, 14, 16, 18, 20, 22, 24, 26, 28, 30, 32, 34, 36, 38]\n"
     ]
    }
   ],
   "source": [
    "a = [x for x in range(40)]\n",
    "\n",
    "b = [m for m in a if m % 2 == 0] # 没有`:`\n",
    "print(b)"
   ]
  },
  {
   "cell_type": "code",
   "execution_count": 14,
   "metadata": {},
   "outputs": [
    {
     "name": "stdout",
     "output_type": "stream",
     "text": [
      "[1, 2, 3]\n",
      "[100, 200, 300]\n",
      "[101, 201, 301, 102, 202, 302, 103, 203, 303]\n",
      "101  201  301  102  202  302  103  203  303  \n",
      "[101, 201, 102, 202, 103, 203]\n"
     ]
    }
   ],
   "source": [
    "# 列表生成式可以嵌套\n",
    "# 由两个列表a，b\n",
    "a = [i for i in range(1,4)] # 生成list a\n",
    "print(a)\n",
    "\n",
    "b = [i for i in range(100,400) if i % 100 == 0]\n",
    "print(b)\n",
    "\n",
    "# 列表生成是可以嵌套,此时等于两个for循环嵌套\n",
    "c = [  m+n for m in a for n in b]\n",
    "print(c)\n",
    "\n",
    "# 上面代码跟下面代码等价\n",
    "for m in a:\n",
    "    for n in b:\n",
    "        print(m+n, end=\"  \")\n",
    "print()\n",
    "\n",
    "\n",
    "\n",
    "# 嵌套的列表生城市也可以用条件表达式\n",
    "c = [  m+n for m in a for n in b if m+n < 250]\n",
    "print(c)"
   ]
  },
  {
   "cell_type": "markdown",
   "metadata": {},
   "source": [
    "## `in`函数判断大小字母"
   ]
  },
  {
   "cell_type": "code",
   "execution_count": 17,
   "metadata": {},
   "outputs": [
    {
     "data": {
      "text/plain": [
       "False"
      ]
     },
     "execution_count": 17,
     "metadata": {},
     "output_type": "execute_result"
    }
   ],
   "source": [
    "'W' in \"I love wangxiaojing\""
   ]
  },
  {
   "cell_type": "markdown",
   "metadata": {},
   "source": [
    "## `insert`插入\n",
    "\n",
    "- 语法\n",
    "\n",
    "        list.insert(index, obj)\n",
    "- 参数\n",
    "    index -- 对象 obj 需要插入的索引位置。\n",
    "    obj -- 要插入列表中的对象。\n",
    "\n",
    "- 返回值\n",
    "该方法没有返回值，但会在列表指定位置插入对象。"
   ]
  },
  {
   "cell_type": "code",
   "execution_count": 10,
   "metadata": {},
   "outputs": [
    {
     "name": "stdout",
     "output_type": "stream",
     "text": [
      "['a', 'b', 'c', 'd', 'e']\n",
      "['112233', 'a', 'b', 'c', 'd', 'e']\n"
     ]
    }
   ],
   "source": [
    "a = ['a', 'b', 'c', 'd', 'e']\n",
    "print(a)\n",
    "a.insert(0, '112233')\n",
    "print(a)"
   ]
  },
  {
   "cell_type": "markdown",
   "metadata": {},
   "source": [
    "## 翻转列表\n",
    "\n",
    "- 使用列表切片,步长设定为负数,由后向前推进"
   ]
  },
  {
   "cell_type": "code",
   "execution_count": 16,
   "metadata": {},
   "outputs": [
    {
     "name": "stdout",
     "output_type": "stream",
     "text": [
      "['I', ' ', 'l', 'o', 'v', 'e', ' ', 'Y', 'o', 'u']\n",
      "['u', 'o', 'Y', ' ', 'e', 'v', 'o', 'l', ' ', 'I']\n"
     ]
    }
   ],
   "source": [
    "a = list('I love You')\n",
    "print(a)\n",
    "print(a[-1:-len(a)-1:-1])"
   ]
  },
  {
   "cell_type": "markdown",
   "metadata": {},
   "source": [
    "- 使用`reverse()`,无返回值"
   ]
  },
  {
   "cell_type": "code",
   "execution_count": 8,
   "metadata": {},
   "outputs": [
    {
     "name": "stdout",
     "output_type": "stream",
     "text": [
      "['I', ' ', 'l', 'o', 'v', 'e', ' ', 'Y', 'o', 'u'] aid: 1930010024200\n",
      "['u', 'o', 'Y', ' ', 'e', 'v', 'o', 'l', ' ', 'I'] aid: 1930010024200\n"
     ]
    }
   ],
   "source": [
    "a = list('I love You')\n",
    "print(a,'aid:',id(a))\n",
    "a.reverse()\n",
    "print(a,'aid:',id(a))"
   ]
  },
  {
   "cell_type": "markdown",
   "metadata": {},
   "source": [
    "## `pop`:删除\n",
    "\n",
    "- 列表.pop(索引号,默认-1)\n",
    "- 返回值: 出栈值"
   ]
  },
  {
   "cell_type": "code",
   "execution_count": 6,
   "metadata": {},
   "outputs": [
    {
     "name": "stdout",
     "output_type": "stream",
     "text": [
      "['I', ' ', 'l', 'o', 'v', 'e', ' ', 'Y', 'o', 'u']\n",
      "['I', 'l', 'o', 'v', 'e', ' ', 'Y', 'o', 'u']\n"
     ]
    }
   ],
   "source": [
    "a = list('I love You')\n",
    "print(a)\n",
    "a.pop(1)\n",
    "print(a)"
   ]
  },
  {
   "cell_type": "markdown",
   "metadata": {},
   "source": [
    "## `remove`:删除\n",
    "\n",
    "- 列表.remove(数值)\n",
    "- 返回值: 无"
   ]
  },
  {
   "cell_type": "code",
   "execution_count": 7,
   "metadata": {},
   "outputs": [
    {
     "name": "stdout",
     "output_type": "stream",
     "text": [
      "['I', ' ', 'l', 'o', 'v', 'e', ' ', 'Y', 'o', 'u']\n",
      "['I', ' ', 'l', 'v', 'e', ' ', 'Y', 'o', 'u']\n"
     ]
    }
   ],
   "source": [
    "a = list('I love You')\n",
    "print(a)\n",
    "a.remove('o')\n",
    "print(a)"
   ]
  },
  {
   "cell_type": "markdown",
   "metadata": {},
   "source": [
    "## extend:拓展\n",
    "\n",
    "- 不会更改地址\n",
    "- 可以用`a+b`代替,"
   ]
  },
  {
   "cell_type": "code",
   "execution_count": 1,
   "metadata": {},
   "outputs": [
    {
     "name": "stdout",
     "output_type": "stream",
     "text": [
      "['I', ' ', 'l', 'o', 'v', 'e', ' ', 'Y', 'o', 'u'] aid: 2909014740488\n",
      "['I', ' ', 'l', 'o', 'v', 'e', ' ', 'Y', 'o', 'u', 'I', ' ', 'l', 'o', 'v', 'e', ' ', 'Y', 'o', 'u'] aid: 2909014740488\n",
      "['I', ' ', 'l', 'o', 'v', 'e', ' ', 'Y', 'o', 'u', 'I', ' ', 'l', 'o', 'v', 'e', ' ', 'Y', 'o', 'u', 'I', ' ', 'l', 'o', 'v', 'e', ' ', 'Y', 'o', 'u', 'I', ' ', 'l', 'o', 'v', 'e', ' ', 'Y', 'o', 'u']\n"
     ]
    }
   ],
   "source": [
    "a = list('I love You')\n",
    "print(a,'aid:',id(a))\n",
    "a.extend(a)\n",
    "print(a,'aid:',id(a))\n",
    "print(a+a)"
   ]
  },
  {
   "cell_type": "markdown",
   "metadata": {},
   "source": [
    "## 返回值的位置"
   ]
  },
  {
   "cell_type": "code",
   "execution_count": 3,
   "metadata": {},
   "outputs": [
    {
     "name": "stdout",
     "output_type": "stream",
     "text": [
      "['I', ' ', 'l', 'o', 'v', 'e', ' ', 'Y', 'o', 'u', 'I', ' ', 'l', 'o', 'v', 'e', ' ', 'Y', 'o', 'u']\n",
      "3\n"
     ]
    }
   ],
   "source": [
    "print(a)\n",
    "print(a.index('o'))"
   ]
  },
  {
   "cell_type": "markdown",
   "metadata": {},
   "source": [
    "## 变量交换法\n",
    "\n",
    "- 两个变量交换"
   ]
  },
  {
   "cell_type": "code",
   "execution_count": 6,
   "metadata": {},
   "outputs": [
    {
     "name": "stdout",
     "output_type": "stream",
     "text": [
      "初始值:a=1,b=2\n",
      "初始值:a=2,b=1\n"
     ]
    }
   ],
   "source": [
    "a = 1\n",
    "b = 2\n",
    "print('初始值:a=%i,b=%i'%(a,b))\n",
    "\n",
    "a, b = b, a\n",
    "print('交换值:a=%i,b=%i'%(a,b))"
   ]
  },
  {
   "cell_type": "markdown",
   "metadata": {},
   "source": [
    "# 集合-set\n",
    "\n",
    "- 集合是高中数学的一个概念\n",
    "- 一群无序的唯一的数据"
   ]
  },
  {
   "cell_type": "code",
   "execution_count": 7,
   "metadata": {},
   "outputs": [
    {
     "name": "stdout",
     "output_type": "stream",
     "text": [
      "<class 'set'> set()\n",
      "<class 'set'> {1, 2, 3, 4}\n"
     ]
    }
   ],
   "source": [
    "d = set()\n",
    "print(type(d),d)\n",
    "d = {1, 2, 3, 4}\n",
    "print(type(d),d)"
   ]
  },
  {
   "cell_type": "markdown",
   "metadata": {},
   "source": [
    "- 集合的数据必须是可以哈希的\n",
    "    - 错误提示为`TypeError: unhashable type: 'set'`"
   ]
  },
  {
   "cell_type": "code",
   "execution_count": 8,
   "metadata": {},
   "outputs": [
    {
     "ename": "TypeError",
     "evalue": "unhashable type: 'set'",
     "output_type": "error",
     "traceback": [
      "\u001b[1;31m---------------------------------------------------------------------------\u001b[0m",
      "\u001b[1;31mTypeError\u001b[0m                                 Traceback (most recent call last)",
      "\u001b[1;32m<ipython-input-8-9b560edb9931>\u001b[0m in \u001b[0;36m<module>\u001b[1;34m\u001b[0m\n\u001b[1;32m----> 1\u001b[1;33m \u001b[0ms\u001b[0m \u001b[1;33m=\u001b[0m \u001b[1;33m{\u001b[0m\u001b[1;33m{\u001b[0m\u001b[1;36m1\u001b[0m\u001b[1;33m,\u001b[0m\u001b[1;36m2\u001b[0m\u001b[1;33m,\u001b[0m\u001b[1;36m3\u001b[0m\u001b[1;33m}\u001b[0m\u001b[1;33m,\u001b[0m\u001b[1;36m1\u001b[0m\u001b[1;33m,\u001b[0m\u001b[1;36m2\u001b[0m\u001b[1;33m}\u001b[0m\u001b[1;33m\u001b[0m\u001b[0m\n\u001b[0m\u001b[0;32m      2\u001b[0m \u001b[0mprint\u001b[0m\u001b[1;33m(\u001b[0m\u001b[0ms\u001b[0m\u001b[1;33m)\u001b[0m\u001b[1;33m\u001b[0m\u001b[0m\n",
      "\u001b[1;31mTypeError\u001b[0m: unhashable type: 'set'"
     ]
    }
   ],
   "source": [
    "s = {{1,2,3},1,2}\n",
    "print(s)"
   ]
  },
  {
   "cell_type": "markdown",
   "metadata": {},
   "source": [
    "## 集合的用处\n",
    "\n",
    "- 因为集合内只有唯一值,可以用来除重\n",
    "\n",
    "## 集合序列操作\n",
    "\n",
    "- 成员检测:`in, not in\n",
    "- 遍历操作:`for i in abc`\n",
    "- 内涵:`{i for i in n}`\n",
    "- 添加`add`:`s.add(123)`\n",
    "\n",
    "## remove与discard\n",
    "- 删除,`discard`删除不存在的值不会报错\n",
    "\n",
    "        s.remove(i)\n",
    "        s.discard(i)\n",
    "        \n",
    "## pop()\n",
    "\n",
    "- 随机删除一个值,然后返回删除的值\n",
    "\n",
    "        a = s.pop(a)"
   ]
  },
  {
   "cell_type": "markdown",
   "metadata": {},
   "source": [
    "## 集合函数(交叉并补)\n",
    "\n",
    "- intersection: 交集\n",
    "- difference: 差集\n",
    "- union: 并集\n",
    "- issubset: 检查一个集合是否为另一个的子集\n",
    "- issuperset: 检查一个集合是否为拎一个的超集"
   ]
  },
  {
   "cell_type": "code",
   "execution_count": 10,
   "metadata": {},
   "outputs": [
    {
     "name": "stdout",
     "output_type": "stream",
     "text": [
      "{5, 6, 7}\n",
      "{1, 2, 3, 4}\n",
      "{1, 2, 3, 4}\n",
      "{1, 2, 3, 4, 5, 6, 7, 8, 9}\n",
      "True\n",
      "True\n"
     ]
    }
   ],
   "source": [
    "s1 = {1,2,3,4,5,6,7}\n",
    "s2 = {5,6,7,8,9}\n",
    "\n",
    "# 交集\n",
    "s_1 = s1.intersection(s2)\n",
    "print(s_1)\n",
    "\n",
    "# 差集\n",
    "s_2 = s1.difference(s2)  # s1-s2\n",
    "print(s_2)\n",
    "# 也可以写成\n",
    "s_2 = s1 - s2\n",
    "print(s_2)\n",
    "\n",
    "# 并集\n",
    "s_3 = s1.union(s2)\n",
    "print(s_3)\n",
    "\n",
    "# 检查子集\n",
    "print(s_2.issubset(s1))\n",
    "print(s_3.issuperset(s2))"
   ]
  },
  {
   "cell_type": "markdown",
   "metadata": {},
   "source": [
    "## frozenset:冰冻集合\n",
    "> 不能修改的集合,是一种特殊的集合"
   ]
  },
  {
   "cell_type": "code",
   "execution_count": 13,
   "metadata": {},
   "outputs": [
    {
     "name": "stdout",
     "output_type": "stream",
     "text": [
      "frozenset({1, 2, 3, 4, 5, 6, 7, 8, 9})\n"
     ]
    }
   ],
   "source": [
    "s = frozenset(s_3)\n",
    "print(s)"
   ]
  },
  {
   "cell_type": "markdown",
   "metadata": {},
   "source": [
    "# 字典\n",
    "\n",
    "## 字典遍历与迭代\n",
    "- 默认按照key值进行遍历"
   ]
  },
  {
   "cell_type": "code",
   "execution_count": 18,
   "metadata": {},
   "outputs": [
    {
     "name": "stdout",
     "output_type": "stream",
     "text": [
      "a\n",
      "b\n",
      "c\n",
      "a\n",
      "b\n",
      "c\n",
      "1\n",
      "2\n",
      "2\n"
     ]
    }
   ],
   "source": [
    "d = {'a':1, 'b':2, 'c':2}\n",
    "for i in d:\n",
    "    print(i)\n",
    "\n",
    "# 或者\n",
    "for i in d.keys():\n",
    "    print(i)\n",
    "    \n",
    "for i in d.values():\n",
    "    print(i)"
   ]
  },
  {
   "cell_type": "code",
   "execution_count": 19,
   "metadata": {},
   "outputs": [
    {
     "name": "stdout",
     "output_type": "stream",
     "text": [
      "a --> 1\n",
      "b --> 2\n",
      "c --> 2\n"
     ]
    }
   ],
   "source": [
    "for i, j in d.items():\n",
    "    print(i,'-->', j)"
   ]
  },
  {
   "cell_type": "markdown",
   "metadata": {},
   "source": [
    "## 字典相关函数\n",
    "\n",
    "\n",
    "### get\n",
    "\n",
    "- get:根据指定的键值返回值,好处是:可以定制默认值\n",
    "    - `d.get('key',默认值)`"
   ]
  },
  {
   "cell_type": "code",
   "execution_count": 21,
   "metadata": {},
   "outputs": [
    {
     "name": "stdout",
     "output_type": "stream",
     "text": [
      "None\n",
      "123456\n"
     ]
    }
   ],
   "source": [
    "print(d.get('qerqer'))\n",
    "print(d.get('adf',123456)) "
   ]
  },
  {
   "cell_type": "markdown",
   "metadata": {},
   "source": [
    "### fromkeys\n",
    "\n",
    "- 使用指定序列作为键值"
   ]
  },
  {
   "cell_type": "code",
   "execution_count": 31,
   "metadata": {},
   "outputs": [
    {
     "name": "stdout",
     "output_type": "stream",
     "text": [
      "{'1': [1, 2, 3], '3': [1, 2, 3], '7': [1, 2, 3]}\n"
     ]
    }
   ],
   "source": [
    "a = ['1','3','7']\n",
    "d = dict.fromkeys(a,[1,2,3])\n",
    "print(d)\n"
   ]
  }
 ],
 "metadata": {
  "kernelspec": {
   "display_name": "Python 3",
   "language": "python",
   "name": "python3"
  },
  "language_info": {
   "codemirror_mode": {
    "name": "ipython",
    "version": 3
   },
   "file_extension": ".py",
   "mimetype": "text/x-python",
   "name": "python",
   "nbconvert_exporter": "python",
   "pygments_lexer": "ipython3",
   "version": "3.6.5"
  }
 },
 "nbformat": 4,
 "nbformat_minor": 2
}
